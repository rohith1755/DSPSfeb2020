{
  "nbformat": 4,
  "nbformat_minor": 0,
  "metadata": {
    "colab": {
      "name": "DSPS(Day4-10/03/2020)",
      "provenance": [],
      "collapsed_sections": []
    },
    "kernelspec": {
      "name": "python3",
      "display_name": "Python 3"
    }
  },
  "cells": [
    {
      "cell_type": "code",
      "metadata": {
        "id": "UFU1T4zvANR1",
        "colab_type": "code",
        "outputId": "8d43ac2f-1dc0-4b1a-d850-6152d87eb5b2",
        "colab": {
          "base_uri": "https://localhost:8080/",
          "height": 136
        }
      },
      "source": [
        "print(\"su\">\"sam\")\n",
        "print(\"z\">\"m\")\n",
        "print(\"sum\">\"sum\")\n",
        "print(\"abracadabra\">\"abacus\")\n",
        "print(\"sam\">\"sum\")\n",
        "print(\"aba\">\"aaa\")\n",
        "print(\"aba\"> \"a\")\n",
        "\n",
        "#Taking ASCII values of the characters in the string comparision is done\n",
        "#o/p is given "
      ],
      "execution_count": 0,
      "outputs": [
        {
          "output_type": "stream",
          "text": [
            "True\n",
            "True\n",
            "False\n",
            "True\n",
            "False\n",
            "True\n",
            "True\n"
          ],
          "name": "stdout"
        }
      ]
    },
    {
      "cell_type": "code",
      "metadata": {
        "id": "6CESnosOASJT",
        "colab_type": "code",
        "outputId": "ea886a49-9372-420f-b495-6b34e5987cc9",
        "colab": {
          "base_uri": "https://localhost:8080/",
          "height": 51
        }
      },
      "source": [
        "print(2 & 3 ) # -- 0010 0011-->0010\n",
        "print (2 and 3)"
      ],
      "execution_count": 0,
      "outputs": [
        {
          "output_type": "stream",
          "text": [
            "2\n",
            "3\n"
          ],
          "name": "stdout"
        }
      ]
    },
    {
      "cell_type": "code",
      "metadata": {
        "id": "b4mpseAECp35",
        "colab_type": "code",
        "outputId": "04937b85-46c1-4c44-b37c-c24c6481493b",
        "colab": {
          "base_uri": "https://localhost:8080/",
          "height": 51
        }
      },
      "source": [
        "print(bool(1))\n",
        "print(bool(0))"
      ],
      "execution_count": 0,
      "outputs": [
        {
          "output_type": "stream",
          "text": [
            "True\n",
            "False\n"
          ],
          "name": "stdout"
        }
      ]
    },
    {
      "cell_type": "code",
      "metadata": {
        "id": "sDR7NrB6DXFk",
        "colab_type": "code",
        "outputId": "54b23bf1-6377-44d1-8bbf-27240580a1f2",
        "colab": {
          "base_uri": "https://localhost:8080/",
          "height": 153
        }
      },
      "source": [
        "print( 4 and 5)\n",
        "print(0 and 2)\n",
        "print(8 and 3)\n",
        "print(2==2 and 5==7)\n",
        "print(2!=2 and 5==7 )\n",
        "print(5==7 and 2*3)\n",
        "print(2*3 and 5==5)\n",
        "print(5==5 and 2*3)"
      ],
      "execution_count": 0,
      "outputs": [
        {
          "output_type": "stream",
          "text": [
            "5\n",
            "0\n",
            "3\n",
            "False\n",
            "False\n",
            "False\n",
            "True\n",
            "6\n"
          ],
          "name": "stdout"
        }
      ]
    },
    {
      "cell_type": "code",
      "metadata": {
        "id": "ULNkZBhID-Sj",
        "colab_type": "code",
        "outputId": "7bbf1acb-1c18-49f6-be06-20521bee692e",
        "colab": {
          "base_uri": "https://localhost:8080/",
          "height": 153
        }
      },
      "source": [
        "print( 4 or 5)\n",
        "print(0 or 2)\n",
        "print(8 or 3)\n",
        "print(2==2 or 5==7)\n",
        "print(2!=2 or 5==7 )\n",
        "print(5==7 or 2*3)\n",
        "print(2*3 or 5==5)\n",
        "print(5==5 or 2*3)"
      ],
      "execution_count": 0,
      "outputs": [
        {
          "output_type": "stream",
          "text": [
            "4\n",
            "2\n",
            "8\n",
            "True\n",
            "False\n",
            "6\n",
            "6\n",
            "True\n"
          ],
          "name": "stdout"
        }
      ]
    },
    {
      "cell_type": "code",
      "metadata": {
        "id": "h1jJumobFrpi",
        "colab_type": "code",
        "outputId": "4dbac7cc-168d-46a4-91b6-01eac52af0d4",
        "colab": {
          "base_uri": "https://localhost:8080/",
          "height": 51
        }
      },
      "source": [
        "print(True+True)\n",
        "print((True+True)*\"Python\")"
      ],
      "execution_count": 0,
      "outputs": [
        {
          "output_type": "stream",
          "text": [
            "2\n",
            "PythonPython\n"
          ],
          "name": "stdout"
        }
      ]
    },
    {
      "cell_type": "code",
      "metadata": {
        "id": "s6pVnw3tGWyO",
        "colab_type": "code",
        "outputId": "f7ee4d8f-7348-4baf-c13e-03ef3315d3d5",
        "colab": {
          "base_uri": "https://localhost:8080/",
          "height": 119
        }
      },
      "source": [
        "n=int(input())\n",
        "for i in range (n):\n",
        "  print(i)\n",
        "  i+=1"
      ],
      "execution_count": 0,
      "outputs": [
        {
          "output_type": "stream",
          "text": [
            "5\n",
            "0\n",
            "1\n",
            "2\n",
            "3\n",
            "4\n"
          ],
          "name": "stdout"
        }
      ]
    },
    {
      "cell_type": "code",
      "metadata": {
        "id": "O9-aztJ_I_ae",
        "colab_type": "code",
        "outputId": "8982be9b-9585-43a2-aaad-dc67dd79c262",
        "colab": {
          "base_uri": "https://localhost:8080/",
          "height": 34
        }
      },
      "source": [
        "\"\"\"n1 = 1 \n",
        "while n1>0:\n",
        "  print(n1)\n",
        "  n1+=1\"\"\"# This is an infinite loop, using while loop."
      ],
      "execution_count": 0,
      "outputs": [
        {
          "output_type": "execute_result",
          "data": {
            "text/plain": [
              "'n1 = 1 \\nwhile n1>0:\\n  print(n1)\\n  n1+=1'"
            ]
          },
          "metadata": {
            "tags": []
          },
          "execution_count": 35
        }
      ]
    },
    {
      "cell_type": "code",
      "metadata": {
        "id": "qNXBRSUGJjUk",
        "colab_type": "code",
        "outputId": "0e3d91c9-cf73-4c54-f922-5aeaf1c9adb1",
        "colab": {
          "base_uri": "https://localhost:8080/",
          "height": 51
        }
      },
      "source": [
        "print('hello\\n \"python\"')"
      ],
      "execution_count": 0,
      "outputs": [
        {
          "output_type": "stream",
          "text": [
            "hello\n",
            " \"python\"\n"
          ],
          "name": "stdout"
        }
      ]
    },
    {
      "cell_type": "code",
      "metadata": {
        "id": "ymB-69HhL6n1",
        "colab_type": "code",
        "outputId": "88fe017d-5004-4ede-a473-68ea097c12ca",
        "colab": {
          "base_uri": "https://localhost:8080/",
          "height": 34
        }
      },
      "source": [
        "i = 0\n",
        "d = \"pingpong\"\n",
        "while i < len(d): # i<= len(d)-1 is also same \n",
        "  print(d[i], end= \" \")\n",
        "  i +=1"
      ],
      "execution_count": 0,
      "outputs": [
        {
          "output_type": "stream",
          "text": [
            "p i n g p o n g "
          ],
          "name": "stdout"
        }
      ]
    },
    {
      "cell_type": "code",
      "metadata": {
        "id": "mlGLCxV7N7hp",
        "colab_type": "code",
        "colab": {}
      },
      "source": [
        "# Use break and continue inside loops only\n",
        "# pass is used when the written code is not needed to execute"
      ],
      "execution_count": 0,
      "outputs": []
    },
    {
      "cell_type": "code",
      "metadata": {
        "id": "lv-ESuhoPKVM",
        "colab_type": "code",
        "outputId": "0ca86965-f6ca-429e-e839-da03e0526a97",
        "colab": {
          "base_uri": "https://localhost:8080/",
          "height": 68
        }
      },
      "source": [
        "#create list\n",
        "a = []\n",
        "a1 =  list()\n",
        "#type of list\n",
        "print(type(a),type(a1))\n",
        "print(a)\n",
        "print(a1)"
      ],
      "execution_count": 0,
      "outputs": [
        {
          "output_type": "stream",
          "text": [
            "<class 'list'> <class 'list'>\n",
            "[]\n",
            "[]\n"
          ],
          "name": "stdout"
        }
      ]
    },
    {
      "cell_type": "code",
      "metadata": {
        "id": "8VrdUJtEkxP_",
        "colab_type": "code",
        "outputId": "d47ac00b-1763-4f3d-fb18-7fd1361c37a1",
        "colab": {
          "base_uri": "https://localhost:8080/",
          "height": 34
        }
      },
      "source": [
        "a = [1,3,2,4,6,5]\n",
        "a. append(7)\n",
        "print(a)"
      ],
      "execution_count": 0,
      "outputs": [
        {
          "output_type": "stream",
          "text": [
            "[1, 3, 2, 4, 6, 5, 7]\n"
          ],
          "name": "stdout"
        }
      ]
    },
    {
      "cell_type": "code",
      "metadata": {
        "id": "zX6r7hBvlVZy",
        "colab_type": "code",
        "outputId": "f8b5620e-0b22-4d8e-a53f-9cc9449bf1f0",
        "colab": {
          "base_uri": "https://localhost:8080/",
          "height": 34
        }
      },
      "source": [
        "a.sort()\n",
        "print(a)"
      ],
      "execution_count": 0,
      "outputs": [
        {
          "output_type": "stream",
          "text": [
            "[1, 2, 3, 4, 5, 6, 7]\n"
          ],
          "name": "stdout"
        }
      ]
    },
    {
      "cell_type": "code",
      "metadata": {
        "id": "5w9Ic823lqiP",
        "colab_type": "code",
        "outputId": "aec63890-b5fe-4e80-dc60-c19c3d0c3219",
        "colab": {
          "base_uri": "https://localhost:8080/",
          "height": 54
        }
      },
      "source": [
        "print(dir(a))"
      ],
      "execution_count": 0,
      "outputs": [
        {
          "output_type": "stream",
          "text": [
            "['__add__', '__class__', '__contains__', '__delattr__', '__delitem__', '__dir__', '__doc__', '__eq__', '__format__', '__ge__', '__getattribute__', '__getitem__', '__gt__', '__hash__', '__iadd__', '__imul__', '__init__', '__init_subclass__', '__iter__', '__le__', '__len__', '__lt__', '__mul__', '__ne__', '__new__', '__reduce__', '__reduce_ex__', '__repr__', '__reversed__', '__rmul__', '__setattr__', '__setitem__', '__sizeof__', '__str__', '__subclasshook__', 'append', 'clear', 'copy', 'count', 'extend', 'index', 'insert', 'pop', 'remove', 'reverse', 'sort']\n"
          ],
          "name": "stdout"
        }
      ]
    },
    {
      "cell_type": "code",
      "metadata": {
        "id": "kKtyS3ndmhQt",
        "colab_type": "code",
        "outputId": "c4bdec4b-168e-4875-897c-6cbddebdbbaa",
        "colab": {
          "base_uri": "https://localhost:8080/",
          "height": 34
        }
      },
      "source": [
        "a = [1,2,3,4,5,6,7,8,9]\n",
        "print(a.count(4))"
      ],
      "execution_count": 0,
      "outputs": [
        {
          "output_type": "stream",
          "text": [
            "1\n"
          ],
          "name": "stdout"
        }
      ]
    },
    {
      "cell_type": "code",
      "metadata": {
        "id": "4X27pnEhnvEa",
        "colab_type": "code",
        "outputId": "f1b9e847-2587-484b-c331-71f13f3f1f91",
        "colab": {
          "base_uri": "https://localhost:8080/",
          "height": 102
        }
      },
      "source": [
        "help(a.count)"
      ],
      "execution_count": 0,
      "outputs": [
        {
          "output_type": "stream",
          "text": [
            "Help on built-in function count:\n",
            "\n",
            "count(...) method of builtins.list instance\n",
            "    L.count(value) -> integer -- return number of occurrences of value\n",
            "\n"
          ],
          "name": "stdout"
        }
      ]
    },
    {
      "cell_type": "code",
      "metadata": {
        "id": "Zne1rmkZo3yU",
        "colab_type": "code",
        "outputId": "befa5560-9145-4d6b-8165-1453e303eea4",
        "colab": {
          "base_uri": "https://localhost:8080/",
          "height": 34
        }
      },
      "source": [
        "print(a)\n",
        "a.reverse()\n",
        "#print(a.reverse())"
      ],
      "execution_count": 0,
      "outputs": [
        {
          "output_type": "stream",
          "text": [
            "[9, 8, 7, 6, 5, 4, 3, 2, 1]\n"
          ],
          "name": "stdout"
        }
      ]
    },
    {
      "cell_type": "code",
      "metadata": {
        "id": "TOYxWdlsn2Ot",
        "colab_type": "code",
        "outputId": "cf9bde7a-a35a-463e-ee44-8f574267970f",
        "colab": {
          "base_uri": "https://localhost:8080/",
          "height": 102
        }
      },
      "source": [
        "help(a.reverse)"
      ],
      "execution_count": 0,
      "outputs": [
        {
          "output_type": "stream",
          "text": [
            "Help on built-in function reverse:\n",
            "\n",
            "reverse(...) method of builtins.list instance\n",
            "    L.reverse() -- reverse *IN PLACE*\n",
            "\n"
          ],
          "name": "stdout"
        }
      ]
    },
    {
      "cell_type": "code",
      "metadata": {
        "id": "c19Qzt5RptEA",
        "colab_type": "code",
        "outputId": "82774108-f575-427f-ad37-9353ead666a4",
        "colab": {
          "base_uri": "https://localhost:8080/",
          "height": 34
        }
      },
      "source": [
        "a.pop(8)\n",
        "print(a)"
      ],
      "execution_count": 0,
      "outputs": [
        {
          "output_type": "stream",
          "text": [
            "[1, 2, 3, 4, 5, 6, 7, 8]\n"
          ],
          "name": "stdout"
        }
      ]
    },
    {
      "cell_type": "code",
      "metadata": {
        "id": "XYDvwXMcpwhl",
        "colab_type": "code",
        "outputId": "782d3fdd-ace9-4c58-bdb0-2d81a260f48c",
        "colab": {
          "base_uri": "https://localhost:8080/",
          "height": 119
        }
      },
      "source": [
        "help(a.pop)"
      ],
      "execution_count": 0,
      "outputs": [
        {
          "output_type": "stream",
          "text": [
            "Help on built-in function pop:\n",
            "\n",
            "pop(...) method of builtins.list instance\n",
            "    L.pop([index]) -> item -- remove and return item at index (default last).\n",
            "    Raises IndexError if list is empty or index is out of range.\n",
            "\n"
          ],
          "name": "stdout"
        }
      ]
    },
    {
      "cell_type": "code",
      "metadata": {
        "id": "qDO4mTc0p4hL",
        "colab_type": "code",
        "colab": {}
      },
      "source": [
        ""
      ],
      "execution_count": 0,
      "outputs": []
    },
    {
      "cell_type": "markdown",
      "metadata": {
        "id": "RzpXkLHpp9MA",
        "colab_type": "text"
      },
      "source": [
        "# ASSESSMENT QUESTIONS\n",
        "- Read a string from keyboard\n",
        "  - calculate no.of unique characters\n",
        "  - get unique characters as a list\n",
        "  - arrange alphabets in order\n",
        "- Read a list from key board\n",
        "  - i/p --> \"12 56 78 92\"\n",
        "  - o/p --> [12, 5, 78, 92]\n",
        "- Create list of lists\n",
        "  - [[0,1,2,3,4,5,6,7,8,9],[10,11,12,13,14,15,16,17,18,19],[20......,29],.....[90....,99]]\n",
        "  - How to identify the 7th list 6th element?\n"
      ]
    },
    {
      "cell_type": "code",
      "metadata": {
        "id": "EGlRyhysqB0V",
        "colab_type": "code",
        "colab": {}
      },
      "source": [
        "l1 = list(input(\"Enter the numbers: \"))\n",
        "print(l1)"
      ],
      "execution_count": 0,
      "outputs": []
    },
    {
      "cell_type": "code",
      "metadata": {
        "id": "ZJv1QMKksaSI",
        "colab_type": "code",
        "colab": {}
      },
      "source": [
        ""
      ],
      "execution_count": 0,
      "outputs": []
    }
  ]
}