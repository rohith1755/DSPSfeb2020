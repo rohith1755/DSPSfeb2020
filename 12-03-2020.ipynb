{
 "cells": [
  {
   "cell_type": "code",
   "execution_count": null,
   "metadata": {},
   "outputs": [],
   "source": [
    "#1. \n",
    "n =list(input())\n",
    "for i in range(len(n)):\n",
    "    if i % 2 ==0:\n",
    "        n[i] = int(n[i])\n",
    "        n[i] == n[i] ** 2\n",
    "        print(n[i])\n",
    "        \n",
    "        \n",
    "    \n",
    "    "
   ]
  },
  {
   "cell_type": "code",
   "execution_count": null,
   "metadata": {},
   "outputs": [],
   "source": [
    "#2. \n",
    "n = input().split()\n",
    "n1 = input().split()\n",
    "l = []\n",
    "l1 = []\n",
    "for i in range(len(n)):\n",
    "    n[i] = int(n[i])\n",
    "    n1[i] = int(n1[i])\n",
    "    l.append(n[i] % n1[i])\n",
    "    l1.append(n[i]// n1[i])\n",
    "print(l)\n",
    "print(l1)"
   ]
  },
  {
   "cell_type": "code",
   "execution_count": null,
   "metadata": {},
   "outputs": [],
   "source": [
    "#3. # Read the inputs from keyboard\n",
    "# i/p1: \"10 20 30 60 99\"\n",
    "# i/p2: \"7 6 9 11 9\"\n",
    "# i/p3: \"56 78 89 9 52\"\n",
    "#o/p [[10,20,30,60,99],[7,6,9,11,9],[56,78,89,9,52]]\n",
    "l1 = input().split()\n",
    "l2 = input().split()\n",
    "l3 = input().split()\n",
    "l4 = []\n",
    "for i in range(len(l1)):\n",
    "    l1[i] = int(l1[i])\n",
    "    l2[i] = int(l2[i])\n",
    "    l3[i] = int(l3[i])\n",
    "l4.append(l1)\n",
    "l4.append(l2)\n",
    "l4.append(l3)\n",
    "print(l4)"
   ]
  },
  {
   "cell_type": "code",
   "execution_count": null,
   "metadata": {},
   "outputs": [],
   "source": [
    "#Method 2:\n",
    "out = []\n",
    "for i in range(3):\n",
    "    a = input().split()\n",
    "    for j in range(a):\n",
    "        a[j] = int(a[j])\n",
    "    out.append(a)\n",
    "out\n"
   ]
  },
  {
   "cell_type": "markdown",
   "metadata": {},
   "source": [
    "#4. \n",
    "''' Get the input from keyboard How many names you want to read\n",
    " Read the names from keybord one by one. Store them in a list.\n",
    " update the same list with names as lowercase letters\n",
    " Get the names in a new list as output which starts with vowels\n",
    " Get the names in a new list which ends with consonants\n",
    " Get the names in a new list which will starts with vowels and ends with consonants\n",
    "Get the names in new list which will start with consonats and ends with vowel\n",
    "Get the names in a list which have length in range(5,10). Both 5 and 10 are inclusive'''"
   ]
  },
  {
   "cell_type": "code",
   "execution_count": null,
   "metadata": {},
   "outputs": [],
   "source": [
    "#4.\n",
    "#(i) taking input and storing them in a list\n",
    "n = int(input())\n",
    "l = []\n",
    "for i in range(n):\n",
    "   l.append(input().lower())\n",
    "print(l)\n",
    "    \n",
    "\n",
    "\n",
    "\n",
    "    \n",
    "        \n",
    "        \n",
    "\n",
    "    \n",
    "    \n",
    "\n",
    "    "
   ]
  },
  {
   "cell_type": "code",
   "execution_count": null,
   "metadata": {},
   "outputs": [],
   "source": [
    "#4(ii) checking whether name starts with vowel or not\n",
    "out = []\n",
    "for name in l:\n",
    "    if name[0] in \"aeiou\":\n",
    "        out.append(name)\n",
    "out"
   ]
  },
  {
   "cell_type": "code",
   "execution_count": null,
   "metadata": {},
   "outputs": [],
   "source": [
    "#4(iii)checking whether the name ends with consonant or not\n",
    "out = []\n",
    "for name in l:\n",
    "    if name[-1] not in \"aeiou\":\n",
    "        out.append(name)\n",
    "out"
   ]
  },
  {
   "cell_type": "code",
   "execution_count": null,
   "metadata": {},
   "outputs": [],
   "source": [
    "#4(iv)checking whether the name starts with vowel and ends with consonant or not\n",
    "out = []\n",
    "for name in l:\n",
    "    if name[0] in \"aeiou\" and name[-1] not in \"aeiou\":\n",
    "        out.append(name)\n",
    "out"
   ]
  },
  {
   "cell_type": "code",
   "execution_count": null,
   "metadata": {},
   "outputs": [],
   "source": [
    "#4(vi) checking whether the length of name is in the range(5,10) both 5 and 10 inclusive.\n",
    "out = []\n",
    "for name in l:\n",
    "    if len(name)>=5 and len(name)<11:\n",
    "        out.append(name)\n",
    "out\n"
   ]
  },
  {
   "cell_type": "code",
   "execution_count": null,
   "metadata": {},
   "outputs": [],
   "source": [
    "#4(v) checking whether the name starts with consonant and ends with vowel or not.\n",
    "out = []\n",
    "for name in l:\n",
    "    if name[0] not in \"aeiou\" and name[-1] not in \"aeiou\":\n",
    "        out.append(name)\n",
    "out"
   ]
  },
  {
   "cell_type": "code",
   "execution_count": null,
   "metadata": {},
   "outputs": [],
   "source": [
    "#5. # Read the emails of a string from keyboard until the user enters 'done'.\n",
    "# From the mails get the domin names of the mails in list\n",
    "# example \"ml.ai@gmail.com\" , domain is \"gmail.com\" here\n",
    "emails = []\n",
    "while True:    # get an infinte loop\n",
    "    email = input()\n",
    "    if email == \"done\":      #till user enters done\n",
    "        break          \n",
    "    else:\n",
    "        emails.append(email)  #append it into the empty list. \n",
    "print(emails)\n",
    "    \n",
    "        \n",
    "    "
   ]
  },
  {
   "cell_type": "code",
   "execution_count": null,
   "metadata": {},
   "outputs": [],
   "source": [
    "#5 continued\n",
    "domains = []\n",
    "for i in range(len(emails)):\n",
    "    domains.append(emails[i].split('@')[-1])\n",
    "domains"
   ]
  },
  {
   "cell_type": "code",
   "execution_count": null,
   "metadata": {},
   "outputs": [],
   "source": [
    "#5. How many emails are present with gmail.com in the prevoious list. \n",
    "count = 0\n",
    "domains = []\n",
    "for i in range(len(emails)):\n",
    "    domains.append(emails[i].split('@')[-1])\n",
    "    if domains[i]=='gmail.com':\n",
    "        count+=1\n",
    "print(count)"
   ]
  },
  {
   "cell_type": "code",
   "execution_count": null,
   "metadata": {},
   "outputs": [],
   "source": [
    "#5. getting unique domains , can also be done using set   list(set(domains))\n",
    "unique_domains = []\n",
    "for i in domains:\n",
    "    if i not in unique_domains:\n",
    "        unique_domains.append(i)\n",
    "unique_domains\n"
   ]
  },
  {
   "cell_type": "code",
   "execution_count": null,
   "metadata": {},
   "outputs": [],
   "source": [
    "#how many different domains are there in a list o/p: [\"domain name\":count, \"domain name\":count]\n",
    "l = []\n",
    "for i in unique_domains:             #getting the first element from unique_domains\n",
    "    l.append([i,domains.count(i)])\n",
    "l                                    #counting number of times domain is present. "
   ]
  },
  {
   "cell_type": "code",
   "execution_count": null,
   "metadata": {},
   "outputs": [],
   "source": [
    "s= input().split()\n",
    "s[1] = int(s[1])\n",
    "s[2] = int(s[1])\n",
    "s1 = [tuple([0:2]),s[2],s[3]]\n",
    "s1"
   ]
  },
  {
   "cell_type": "code",
   "execution_count": null,
   "metadata": {},
   "outputs": [],
   "source": [
    "#getting index without using index function\n",
    "for i in range(len(a)):\n",
    "    if a[i]==678:\n",
    "        print(i)"
   ]
  },
  {
   "cell_type": "code",
   "execution_count": 40,
   "metadata": {},
   "outputs": [
    {
     "name": "stdout",
     "output_type": "stream",
     "text": [
      "2\n",
      "shivansh 678 90 python\n",
      "raj 89 90 python\n",
      "678\n"
     ]
    }
   ],
   "source": [
    "#6. read the number of students from user\n",
    "# Read the details of students into a list. Each sublist contains below details\n",
    "    # studentName,RollNumber,Marks,Language in a single line\n",
    "    # example \"raj,416,56,python\"\n",
    "# Create a list in which \n",
    "    # each sublist conatains three elements\n",
    "        # First element is a tuple contains name and roll number\n",
    "        # second element is marks\n",
    "        # third element is language \n",
    "# From the list get the  different languages avaialble in the data\n",
    "n = int(input())\n",
    "students = []\n",
    "for i in range(n):\n",
    "        s = input().split()\n",
    "        s[1] = int(s[1])\n",
    "        s[2] = int(s[2])\n",
    "        s1 = [tuple(s[0:2]),s[2],s[3]]\n",
    "        students.append(s1)\n",
    "print(students[0][0][1])\n",
    "        "
   ]
  },
  {
   "cell_type": "code",
   "execution_count": 46,
   "metadata": {},
   "outputs": [
    {
     "data": {
      "text/plain": [
       "['python']"
      ]
     },
     "execution_count": 46,
     "metadata": {},
     "output_type": "execute_result"
    }
   ],
   "source": [
    "languages = []\n",
    "for i in range(len(students)):\n",
    "    languages.append(students[i][2])\n",
    "languages\n",
    "list(set(languages))"
   ]
  },
  {
   "cell_type": "code",
   "execution_count": 47,
   "metadata": {},
   "outputs": [
    {
     "name": "stdout",
     "output_type": "stream",
     "text": [
      "[('shivansh', 678), 90, 'python']\n"
     ]
    }
   ],
   "source": [
    "if students[0][0][1] == 678:\n",
    "    print(students[0])\n",
    "else:\n",
    "    print(\"not found\")"
   ]
  },
  {
   "cell_type": "code",
   "execution_count": null,
   "metadata": {},
   "outputs": [],
   "source": [
    "#6. getting marks of students\n",
    "for i in range(len(students)):\n",
    "    if students[i][0][1] == 678:\n",
    "        print(student[i][1])"
   ]
  },
  {
   "cell_type": "code",
   "execution_count": null,
   "metadata": {},
   "outputs": [],
   "source": [
    "py_users=[]\n",
    "for i in range(len(students)):\n",
    "    if students[i][2] == \"Python\":\n",
    "        print(students[i][0][1])\n",
    "        py_users.append(students[i][0][1])\n",
    "py_users"
   ]
  },
  {
   "cell_type": "code",
   "execution_count": 6,
   "metadata": {},
   "outputs": [
    {
     "name": "stdout",
     "output_type": "stream",
     "text": [
      "2\n",
      "shiavsnh\n",
      "raj\n",
      "fagv\n",
      "fegv\n",
      "[['shiavsnh'], ['raj'], ['fagv'], ['fegv']]\n",
      "{'fagv'}\n",
      "{'fegv'}\n",
      "set()\n"
     ]
    }
   ],
   "source": [
    "#7.# read two lists from user. Two list conatins the names of students\n",
    "# Get the names which are there in both lists\n",
    "# Get the names which are there in alteast one list\n",
    "# Get the names which are there in list1 not there in list2\n",
    "# Get the names which are there in list2 not there in list1\n",
    "# You can use for loop 2 times instead of solving it by sets. \n",
    "n = int(input())\n",
    "l = []\n",
    "for i in range(n):\n",
    "    l1 = input().split()\n",
    "    l2 = input().split()\n",
    "    l.append(l1)\n",
    "    l.append(l2)\n",
    "    s1 = set(l1)\n",
    "    s2 = set(l2)\n",
    "    s3 = s1.difference(s2)\n",
    "    s4 = s2.difference(s1)\n",
    "    s5 = s1.intersection(s2)\n",
    "print(l)\n",
    "print(s3)\n",
    "print(s4)\n",
    "print(s5)\n"
   ]
  },
  {
   "cell_type": "raw",
   "metadata": {},
   "source": []
  }
 ],
 "metadata": {
  "kernelspec": {
   "display_name": "Python 3",
   "language": "python",
   "name": "python3"
  },
  "language_info": {
   "codemirror_mode": {
    "name": "ipython",
    "version": 3
   },
   "file_extension": ".py",
   "mimetype": "text/x-python",
   "name": "python",
   "nbconvert_exporter": "python",
   "pygments_lexer": "ipython3",
   "version": "3.7.4"
  }
 },
 "nbformat": 4,
 "nbformat_minor": 2
}
