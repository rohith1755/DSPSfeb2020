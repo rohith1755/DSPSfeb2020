{
 "cells": [
  {
   "cell_type": "markdown",
   "metadata": {},
   "source": [
    "DICTIONARIES\n",
    "- creating an empty dictionary....{}, dict()\n",
    "- Adding elements in a dictionary \n",
    "        =d['new_key'] = value\n",
    "- Rules for keys:\n",
    "    1. If data type is immutable then you can use as a key. (tuples, string).\n",
    "- operators on dictionaries. \n",
    "- dictionary methods. "
   ]
  },
  {
   "cell_type": "code",
   "execution_count": 3,
   "metadata": {},
   "outputs": [
    {
     "name": "stdout",
     "output_type": "stream",
     "text": [
      "<class 'dict'>\n"
     ]
    }
   ],
   "source": [
    "emtpty_marks = {}\n",
    "print(type(emtpty_marks))\n"
   ]
  },
  {
   "cell_type": "markdown",
   "metadata": {},
   "source": [
    "Key must be unique the values can be repetitive.\n"
   ]
  },
  {
   "cell_type": "code",
   "execution_count": 4,
   "metadata": {},
   "outputs": [
    {
     "name": "stdout",
     "output_type": "stream",
     "text": [
      "{'415': 78, '890': 92} {415: 78, 890: 92}\n"
     ]
    }
   ],
   "source": [
    "marks = {\"415\":78, \"890\":92}              #the keys can also be used without the quotes.\n",
    "marks1 = {415:78, 890:92}\n",
    "print(marks, marks1)"
   ]
  },
  {
   "cell_type": "code",
   "execution_count": 5,
   "metadata": {},
   "outputs": [
    {
     "ename": "TypeError",
     "evalue": "unhashable type: 'list'",
     "output_type": "error",
     "traceback": [
      "\u001b[1;31m---------------------------------------------------------------------------\u001b[0m",
      "\u001b[1;31mTypeError\u001b[0m                                 Traceback (most recent call last)",
      "\u001b[1;32m<ipython-input-5-7abf2465412c>\u001b[0m in \u001b[0;36m<module>\u001b[1;34m\u001b[0m\n\u001b[0;32m      1\u001b[0m \u001b[1;31m#using lists as key values gives an error as mutable values cannot be used as key.\u001b[0m\u001b[1;33m\u001b[0m\u001b[1;33m\u001b[0m\u001b[1;33m\u001b[0m\u001b[0m\n\u001b[1;32m----> 2\u001b[1;33m \u001b[0mmarks_names\u001b[0m \u001b[1;33m=\u001b[0m \u001b[1;33m{\u001b[0m\u001b[1;33m[\u001b[0m\u001b[1;34m'hema'\u001b[0m\u001b[1;33m,\u001b[0m\u001b[1;36m567\u001b[0m\u001b[1;33m]\u001b[0m\u001b[1;33m:\u001b[0m\u001b[1;36m98\u001b[0m\u001b[1;33m}\u001b[0m\u001b[1;33m\u001b[0m\u001b[1;33m\u001b[0m\u001b[0m\n\u001b[0m\u001b[0;32m      3\u001b[0m \u001b[0mprint\u001b[0m\u001b[1;33m(\u001b[0m\u001b[0mmarks_names\u001b[0m\u001b[1;33m)\u001b[0m\u001b[1;33m\u001b[0m\u001b[1;33m\u001b[0m\u001b[0m\n",
      "\u001b[1;31mTypeError\u001b[0m: unhashable type: 'list'"
     ]
    }
   ],
   "source": [
    "#using lists as key values gives an error as mutable values cannot be used as key.\n",
    "marks_names = {['hema',567]:98}\n",
    "print(marks_names)"
   ]
  },
  {
   "cell_type": "code",
   "execution_count": 6,
   "metadata": {},
   "outputs": [
    {
     "name": "stdout",
     "output_type": "stream",
     "text": [
      "{('hema', 567): 98}\n"
     ]
    }
   ],
   "source": [
    "marks_names = {('hema',567):98}\n",
    "print(marks_names)"
   ]
  },
  {
   "cell_type": "code",
   "execution_count": 10,
   "metadata": {},
   "outputs": [
    {
     "name": "stdout",
     "output_type": "stream",
     "text": [
      "78\n",
      "78\n",
      "98\n"
     ]
    }
   ],
   "source": [
    "#to access elements use key values.\n",
    "print(marks['415'])  #keys as strings\n",
    "print(marks1[415]) #keys are integers.\n",
    "print(marks_names[('hema', 567)])"
   ]
  },
  {
   "cell_type": "code",
   "execution_count": 12,
   "metadata": {},
   "outputs": [
    {
     "name": "stdout",
     "output_type": "stream",
     "text": [
      "{'415': 78, '890': 92, '413': 87, 413: 87}\n"
     ]
    }
   ],
   "source": [
    "#if element is not present it creates a new key with given value.\n",
    "marks[413] = 87\n",
    "print(marks)"
   ]
  },
  {
   "cell_type": "code",
   "execution_count": 14,
   "metadata": {},
   "outputs": [
    {
     "name": "stdout",
     "output_type": "stream",
     "text": [
      "87\n",
      "{'415': 78, '890': 92, '413': 87, 413: 87, '555': 78}\n"
     ]
    }
   ],
   "source": [
    "#assigning variable and getting the value\n",
    "var = '413'\n",
    "print(marks[var])\n",
    "var1 = '555'\n",
    "marks[var1] = 78\n",
    "print(marks)"
   ]
  },
  {
   "cell_type": "code",
   "execution_count": 15,
   "metadata": {},
   "outputs": [
    {
     "name": "stdout",
     "output_type": "stream",
     "text": [
      "{'c': 6, 'Py': 9, 'R': 7, 'Go': 8}\n"
     ]
    }
   ],
   "source": [
    "ratings = {\"c\":6, \"Py\":9,\"R\":7, \"Go\":8}    #gives an error when any string is not given in double quotes\n",
    "                                            #R not defined error. if the element is previously defined it allocates the value\n",
    "print(ratings)                              # to that particular key. "
   ]
  },
  {
   "cell_type": "code",
   "execution_count": 16,
   "metadata": {},
   "outputs": [
    {
     "name": "stdout",
     "output_type": "stream",
     "text": [
      "c Py R Go "
     ]
    }
   ],
   "source": [
    "for x in ratings:                #Using for loop only gives keys as output as index of the key values is considered. \n",
    "    print(x, end=\" \")"
   ]
  },
  {
   "cell_type": "code",
   "execution_count": 18,
   "metadata": {},
   "outputs": [
    {
     "name": "stdout",
     "output_type": "stream",
     "text": [
      "6 9 7 8 "
     ]
    }
   ],
   "source": [
    "#getting values from dictionary using for loop\n",
    "for x in ratings:\n",
    "    print(ratings[x], end =\" \")"
   ]
  },
  {
   "cell_type": "code",
   "execution_count": 27,
   "metadata": {},
   "outputs": [
    {
     "name": "stdout",
     "output_type": "stream",
     "text": [
      "c 6\n",
      "Py 9\n",
      "R 7\n",
      "Go 8\n"
     ]
    }
   ],
   "source": [
    "#getting keys and values from the dict using for loop\n",
    "for x in ratings:\n",
    "    print(x,ratings[x],sep=':')     #you can use sep operator to seperate keys and values. "
   ]
  },
  {
   "cell_type": "code",
   "execution_count": 28,
   "metadata": {},
   "outputs": [
    {
     "name": "stdout",
     "output_type": "stream",
     "text": [
      "\"c\":6\n",
      "\"Py\":9\n",
      "\"R\":7\n",
      "\"Go\":8\n"
     ]
    }
   ],
   "source": [
    "for x in ratings:\n",
    "    print('\"'+x+'\"',ratings[x],sep=':')"
   ]
  },
  {
   "cell_type": "code",
   "execution_count": 30,
   "metadata": {},
   "outputs": [
    {
     "name": "stdout",
     "output_type": "stream",
     "text": [
      "\"c\":6\n",
      "\"Py\":9\n",
      "\"R\":7\n",
      "\"Go\":8\n"
     ]
    }
   ],
   "source": [
    "for x in ratings:\n",
    "    print('\"'+x+'\":'+str(ratings[x]))  #without using sep operator. "
   ]
  },
  {
   "cell_type": "code",
   "execution_count": 31,
   "metadata": {},
   "outputs": [
    {
     "name": "stdout",
     "output_type": "stream",
     "text": [
      "1:1\n",
      "2:8\n",
      "3:27\n",
      "4:64\n",
      "5:125\n",
      "6:216\n",
      "7:343\n",
      "8:512\n",
      "9:729\n",
      "10:1000\n"
     ]
    }
   ],
   "source": [
    "for i in range(1,11):\n",
    "    print(i, i ** 3,sep = ':')"
   ]
  },
  {
   "cell_type": "code",
   "execution_count": 32,
   "metadata": {},
   "outputs": [
    {
     "data": {
      "text/plain": [
       "['__class__',\n",
       " '__contains__',\n",
       " '__delattr__',\n",
       " '__delitem__',\n",
       " '__dir__',\n",
       " '__doc__',\n",
       " '__eq__',\n",
       " '__format__',\n",
       " '__ge__',\n",
       " '__getattribute__',\n",
       " '__getitem__',\n",
       " '__gt__',\n",
       " '__hash__',\n",
       " '__init__',\n",
       " '__init_subclass__',\n",
       " '__iter__',\n",
       " '__le__',\n",
       " '__len__',\n",
       " '__lt__',\n",
       " '__ne__',\n",
       " '__new__',\n",
       " '__reduce__',\n",
       " '__reduce_ex__',\n",
       " '__repr__',\n",
       " '__setattr__',\n",
       " '__setitem__',\n",
       " '__sizeof__',\n",
       " '__str__',\n",
       " '__subclasshook__',\n",
       " 'clear',\n",
       " 'copy',\n",
       " 'fromkeys',\n",
       " 'get',\n",
       " 'items',\n",
       " 'keys',\n",
       " 'pop',\n",
       " 'popitem',\n",
       " 'setdefault',\n",
       " 'update',\n",
       " 'values']"
      ]
     },
     "execution_count": 32,
     "metadata": {},
     "output_type": "execute_result"
    }
   ],
   "source": [
    "dir(dict)"
   ]
  },
  {
   "cell_type": "code",
   "execution_count": 39,
   "metadata": {},
   "outputs": [
    {
     "name": "stdout",
     "output_type": "stream",
     "text": [
      "dict_values([6, 9, 7, 8])\n"
     ]
    }
   ],
   "source": [
    "print(ratings.values())"
   ]
  },
  {
   "cell_type": "code",
   "execution_count": 42,
   "metadata": {},
   "outputs": [
    {
     "name": "stdout",
     "output_type": "stream",
     "text": [
      "Help on built-in function fromkeys:\n",
      "\n",
      "fromkeys(iterable, value=None, /) method of builtins.type instance\n",
      "    Create a new dictionary with keys from iterable and values set to value.\n",
      "\n"
     ]
    }
   ],
   "source": [
    "help(ratings.fromkeys)"
   ]
  },
  {
   "cell_type": "code",
   "execution_count": 2,
   "metadata": {},
   "outputs": [
    {
     "data": {
      "text/plain": [
       "{'vowels': ['ali'], 'consonants': ['roja']}"
      ]
     },
     "execution_count": 2,
     "metadata": {},
     "output_type": "execute_result"
    }
   ],
   "source": [
    "#i/p: [\"ian\",\"hari\",\"akash\",\"balu\",\"roja\",\"ali\"]\n",
    "#o/p:{\"vowels\":[\"ian\",\"ali\",\"akash\"],\"consonants\":[\"hari\",\"balu\",\"roja\"]}    \n",
    "names = [\"ian\",\"hari\",\"akash\",\"balu\",\"roja\",\"ali\"]\n",
    "d = {}\n",
    "for i in range(len(names)):\n",
    "    if names[i][0] in \"aeiou\":\n",
    "        d[\"vowels\"] = [names[i]]\n",
    "    else:\n",
    "        d[\"consonants\"] = [names[i]]\n",
    "d"
   ]
  },
  {
   "cell_type": "code",
   "execution_count": 9,
   "metadata": {},
   "outputs": [
    {
     "name": "stdout",
     "output_type": "stream",
     "text": [
      "hari ravi raj ian akash shivansh\n",
      "{'consonants': ['hari', 'ravi', 'raj', 'shivansh'], 'vowels': ['ian', 'akash']}\n"
     ]
    }
   ],
   "source": [
    "#to get all elements\n",
    "names = list(input().split())\n",
    "d = {}\n",
    "for i in range(len(names)):\n",
    "    if names[i][0] in \"aeiou\":\n",
    "        if 'vowels' in d:\n",
    "            d['vowels'].append(names[i])\n",
    "        else:\n",
    "            d['vowels'] = [names[i]]\n",
    "    else:\n",
    "        if 'consonants' in d:\n",
    "            d['consonants'].append(names[i])\n",
    "        else:\n",
    "            d['consonants'] = [names[i]]\n",
    "print(d)"
   ]
  },
  {
   "cell_type": "code",
   "execution_count": 32,
   "metadata": {},
   "outputs": [
    {
     "name": "stdout",
     "output_type": "stream",
     "text": [
      "['the', 'if', 'picked', 'piper', 'peck', 'of', 'peter', 'where’s', 'picked?', 'peppers', 'a', 'pickled']\n"
     ]
    }
   ],
   "source": [
    "text = \"Peter Piper picked a peck of pickled peppers A peck of pickled peppers Peter Piper picked If Peter Piper picked a peck of pickled peppers Where’s the peck of pickled peppers Peter Piper picked?\"\n",
    "words = []\n",
    "for word in text.split():  #checking words in the list \n",
    "    words.append(word.lower())         #appending it in new list and convertin it into lower case alphabets. \n",
    "print(list(set(words)))           "
   ]
  },
  {
   "cell_type": "code",
   "execution_count": 38,
   "metadata": {},
   "outputs": [
    {
     "data": {
      "text/plain": [
       "{'peter': 4,\n",
       " 'piper': 4,\n",
       " 'picked': 3,\n",
       " 'a': 3,\n",
       " 'peck': 4,\n",
       " 'of': 4,\n",
       " 'pickled': 4,\n",
       " 'peppers': 4,\n",
       " 'if': 1,\n",
       " 'where’s': 1,\n",
       " 'the': 1,\n",
       " 'picked?': 1}"
      ]
     },
     "execution_count": 38,
     "metadata": {},
     "output_type": "execute_result"
    }
   ],
   "source": [
    "unique_words = list(set(words))\n",
    "word_count = {}\n",
    "for word in words:\n",
    "    if word in word_count:\n",
    "        word_count[word] += 1\n",
    "    else:\n",
    "        word_count[word] = 1\n",
    "word_count\n",
    "    "
   ]
  },
  {
   "cell_type": "code",
   "execution_count": null,
   "metadata": {},
   "outputs": [],
   "source": []
  }
 ],
 "metadata": {
  "kernelspec": {
   "display_name": "Python 3",
   "language": "python",
   "name": "python3"
  },
  "language_info": {
   "codemirror_mode": {
    "name": "ipython",
    "version": 3
   },
   "file_extension": ".py",
   "mimetype": "text/x-python",
   "name": "python",
   "nbconvert_exporter": "python",
   "pygments_lexer": "ipython3",
   "version": "3.7.4"
  }
 },
 "nbformat": 4,
 "nbformat_minor": 2
}
