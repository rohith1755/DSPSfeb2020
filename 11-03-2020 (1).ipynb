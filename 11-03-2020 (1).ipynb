{
 "cells": [
  {
   "cell_type": "code",
   "execution_count": null,
   "metadata": {},
   "outputs": [],
   "source": [
    "n =list(input())\n",
    "for i in range(len(n)):\n",
    "    if i % 2 ==0:\n",
    "        n[i] = int(n[i])\n",
    "        n[i] == n[i] ** 2\n",
    "        print(n[i])\n",
    "        \n",
    "        \n",
    "    \n",
    "    "
   ]
  },
  {
   "cell_type": "code",
   "execution_count": null,
   "metadata": {},
   "outputs": [],
   "source": [
    "n = input()\n",
    "l = []\n"
   ]
  },
  {
   "cell_type": "code",
   "execution_count": null,
   "metadata": {},
   "outputs": [],
   "source": [
    "a = [27, 24, 12, 19, 30]\n",
    "i = 1\n",
    "for i in range(len(a)):\n",
    "    "
   ]
  },
  {
   "cell_type": "code",
   "execution_count": null,
   "metadata": {},
   "outputs": [],
   "source": [
    "#2. \n",
    "n = input().split()\n",
    "n1 = input().split()\n",
    "l = []\n",
    "l1 = []\n",
    "for i in range(len(n)):\n",
    "    n[i] = int(n[i])\n",
    "    n1[i] = int(n1[i])\n",
    "    l.append(n[i] % n1[i])\n",
    "    l1.append(n[i]// n1[i])\n",
    "print(l)\n",
    "print(l1)"
   ]
  },
  {
   "cell_type": "code",
   "execution_count": null,
   "metadata": {},
   "outputs": [],
   "source": [
    "#3. # Read the inputs from keyboard\n",
    "# i/p1: \"10 20 30 60 99\"\n",
    "# i/p2: \"7 6 9 11 9\"\n",
    "# i/p3: \"56 78 89 9 52\"\n",
    "#o/p [[10,20,30,60,99],[7,6,9,11,9],[56,78,89,9,52]]\n",
    "l1 = input().split()\n",
    "l2 = input().split()\n",
    "l3 = input().split()\n",
    "l4 = []\n",
    "for i in range(len(l1)):\n",
    "    l1[i] = int(l1[i])\n",
    "    l2[i] = int(l2[i])\n",
    "    l3[i] = int(l3[i])\n",
    "l4.append(l1)\n",
    "l4.append(l2)\n",
    "l4.append(l3)\n",
    "print(l4)"
   ]
  },
  {
   "cell_type": "code",
   "execution_count": null,
   "metadata": {},
   "outputs": [],
   "source": [
    "#Method 2:\n",
    "out = []\n",
    "for i in range(3):\n",
    "    a = input().split()\n",
    "    for j in range(a):\n",
    "        a[j] = int(a[j])\n",
    "    out.append(a)\n",
    "out\n"
   ]
  },
  {
   "cell_type": "markdown",
   "metadata": {},
   "source": [
    "#4. \n",
    "''' Get the input from keyboard How many names you want to read\n",
    " Read the names from keybord one by one. Store them in a list.\n",
    " update the same list with names as lowercase letters\n",
    " Get the names in a new list as output which starts with vowels\n",
    " Get the names in a new list which ends with consonants\n",
    " Get the names in a new list which will starts with vowels and ends with consonants\n",
    "Get the names in new list which will start with consonats and ends with vowel\n",
    "Get the names in a list which have length in range(5,10). Both 5 and 10 are inclusive'''"
   ]
  },
  {
   "cell_type": "code",
   "execution_count": 28,
   "metadata": {},
   "outputs": [
    {
     "name": "stdout",
     "output_type": "stream",
     "text": [
      "4\n",
      "shivansh\n",
      "ian\n",
      "akash\n",
      "ravi\n",
      "['shivansh', 'ian', 'akash', 'ravi']\n"
     ]
    }
   ],
   "source": [
    "#4.\n",
    "#(i) taking input and storing them in a list\n",
    "n = int(input())\n",
    "l = []\n",
    "for i in range(n):\n",
    "   l.append(input().lower())\n",
    "print(l)\n",
    "    \n",
    "\n",
    "\n",
    "\n",
    "    \n",
    "        \n",
    "        \n",
    "\n",
    "    \n",
    "    \n",
    "\n",
    "    "
   ]
  },
  {
   "cell_type": "code",
   "execution_count": 29,
   "metadata": {},
   "outputs": [
    {
     "data": {
      "text/plain": [
       "['ian', 'akash']"
      ]
     },
     "execution_count": 29,
     "metadata": {},
     "output_type": "execute_result"
    }
   ],
   "source": [
    "#4(ii) checking whether name starts with vowel or not\n",
    "out = []\n",
    "for name in l:\n",
    "    if name[0] in \"aeiou\":\n",
    "        out.append(name)\n",
    "out"
   ]
  },
  {
   "cell_type": "code",
   "execution_count": 30,
   "metadata": {},
   "outputs": [
    {
     "data": {
      "text/plain": [
       "['shivansh', 'ian', 'akash']"
      ]
     },
     "execution_count": 30,
     "metadata": {},
     "output_type": "execute_result"
    }
   ],
   "source": [
    "#4(iii)checking whether the name ends with consonant or not\n",
    "out = []\n",
    "for name in l:\n",
    "    if name[-1] not in \"aeiou\":\n",
    "        out.append(name)\n",
    "out"
   ]
  },
  {
   "cell_type": "code",
   "execution_count": 31,
   "metadata": {},
   "outputs": [
    {
     "data": {
      "text/plain": [
       "['ian', 'akash']"
      ]
     },
     "execution_count": 31,
     "metadata": {},
     "output_type": "execute_result"
    }
   ],
   "source": [
    "#4(iv)checking whether the name starts with vowel and ends with consonant or not\n",
    "out = []\n",
    "for name in l:\n",
    "    if name[0] in \"aeiou\" and name[-1] not in \"aeiou\":\n",
    "        out.append(name)\n",
    "out"
   ]
  },
  {
   "cell_type": "code",
   "execution_count": 35,
   "metadata": {},
   "outputs": [
    {
     "data": {
      "text/plain": [
       "['shivansh', 'akash']"
      ]
     },
     "execution_count": 35,
     "metadata": {},
     "output_type": "execute_result"
    }
   ],
   "source": [
    "#4(vi) checking whether the length of name is in the range(5,10) both 5 and 10 inclusive.\n",
    "out = []\n",
    "for name in l:\n",
    "    if len(name)>=5 and len(name)<11:\n",
    "        out.append(name)\n",
    "out\n"
   ]
  },
  {
   "cell_type": "code",
   "execution_count": 36,
   "metadata": {},
   "outputs": [
    {
     "data": {
      "text/plain": [
       "['shivansh']"
      ]
     },
     "execution_count": 36,
     "metadata": {},
     "output_type": "execute_result"
    }
   ],
   "source": [
    "#4(v) checking whether the name starts with consonant and ends with vowel or not.\n",
    "out = []\n",
    "for name in l:\n",
    "    if name[0] not in \"aeiou\" and name[-1] not in \"aeiou\":\n",
    "        out.append(name)\n",
    "out"
   ]
  },
  {
   "cell_type": "code",
   "execution_count": 39,
   "metadata": {},
   "outputs": [
    {
     "name": "stdout",
     "output_type": "stream",
     "text": [
      "shivansh\n"
     ]
    },
    {
     "data": {
      "text/plain": [
       "[]"
      ]
     },
     "execution_count": 39,
     "metadata": {},
     "output_type": "execute_result"
    }
   ],
   "source": [
    "#5. # Read the emails of a string from keyboard until the user enters 'done'.\n",
    "# From the mails get the domin names of the mails in list\n",
    "# example \"ml.ai@gmail.com\" , domain is \"gmail.com\" here\n",
    "n = input()\n",
    "\n",
    "\n",
    "    "
   ]
  },
  {
   "cell_type": "raw",
   "metadata": {},
   "source": []
  }
 ],
 "metadata": {
  "kernelspec": {
   "display_name": "Python 3",
   "language": "python",
   "name": "python3"
  },
  "language_info": {
   "codemirror_mode": {
    "name": "ipython",
    "version": 3
   },
   "file_extension": ".py",
   "mimetype": "text/x-python",
   "name": "python",
   "nbconvert_exporter": "python",
   "pygments_lexer": "ipython3",
   "version": "3.7.4"
  }
 },
 "nbformat": 4,
 "nbformat_minor": 2
}
