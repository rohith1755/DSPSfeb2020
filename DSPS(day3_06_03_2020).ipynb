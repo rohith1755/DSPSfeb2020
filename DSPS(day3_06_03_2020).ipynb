{
  "nbformat": 4,
  "nbformat_minor": 0,
  "metadata": {
    "colab": {
      "name": "DSPS(day3-06/03/2020).ipynb",
      "provenance": [],
      "collapsed_sections": []
    },
    "kernelspec": {
      "name": "python3",
      "display_name": "Python 3"
    }
  },
  "cells": [
    {
      "cell_type": "markdown",
      "metadata": {
        "id": "uvkaKuHccQIb",
        "colab_type": "text"
      },
      "source": [
        "# Dhayanahita\n",
        "## Hello\n",
        "### Welcome to Today's Class\n",
        "#### Today we are going to discuss about python\n",
        "\n",
        "### To insert an image first browse an image and copy address of the image.\n",
        "### click on the inset image icon. paste the image address in  the given space.\n",
        "![](https://images.unsplash.com/photo-1503023345310-bd7c1de61c7d?ixlib=rb-1.2.1&ixid=eyJhcHBfaWQiOjEyMDd9&w=1000&q=80)\n",
        "\n",
        "\n",
        "\n"
      ]
    },
    {
      "cell_type": "markdown",
      "metadata": {
        "id": "xVaWyGR1kY0p",
        "colab_type": "text"
      },
      "source": [
        "# Unorderedlist\n",
        "\n",
        "### college\n",
        "- Students\n",
        "- Faculty\n",
        "- branches\n",
        "  - cse\n",
        "  - ece\n",
        "  - eee\n",
        "  - mech\n",
        "  - civil\n",
        "   \n",
        "# Ordered List  \n",
        "\n",
        "### college\n",
        "1. Students\n",
        "2.  Faculty\n",
        "3.  branches\n",
        "  1.  cse\n",
        "  2.  ece\n",
        "  3.  eee\n",
        "  4.  mech\n",
        "  5.  civil\n"
      ]
    },
    {
      "cell_type": "markdown",
      "metadata": {
        "id": "uhc8rv9Wm61j",
        "colab_type": "text"
      },
      "source": [
        " **Dhyanhita** ###Bold\n",
        "\n",
        " *Dhyanahita* ###Italic"
      ]
    },
    {
      "cell_type": "code",
      "metadata": {
        "id": "kco2DJ8irKA6",
        "colab_type": "code",
        "outputId": "d1c15502-5bdf-4fc2-923a-ee5d0e7b923b",
        "colab": {
          "base_uri": "https://localhost:8080/",
          "height": 129
        }
      },
      "source": [
        "print(\"It's carzy\", yes it is)"
      ],
      "execution_count": 0,
      "outputs": [
        {
          "output_type": "error",
          "ename": "SyntaxError",
          "evalue": "ignored",
          "traceback": [
            "\u001b[0;36m  File \u001b[0;32m\"<ipython-input-5-e8a44622253a>\"\u001b[0;36m, line \u001b[0;32m1\u001b[0m\n\u001b[0;31m    print(\"It's carzy\", yes it is)\u001b[0m\n\u001b[0m                             ^\u001b[0m\n\u001b[0;31mSyntaxError\u001b[0m\u001b[0;31m:\u001b[0m invalid syntax\n"
          ]
        }
      ]
    },
    {
      "cell_type": "code",
      "metadata": {
        "id": "Bic9w7yNrm4g",
        "colab_type": "code",
        "outputId": "d39df75e-faa6-4b30-ed19-8ef36077bb87",
        "colab": {
          "base_uri": "https://localhost:8080/",
          "height": 34
        }
      },
      "source": [
        "print('\\\"It\\'s carzy\\\", yes it is')"
      ],
      "execution_count": 0,
      "outputs": [
        {
          "output_type": "stream",
          "text": [
            "\"It's carzy\", yes it is\n"
          ],
          "name": "stdout"
        }
      ]
    },
    {
      "cell_type": "code",
      "metadata": {
        "id": "VhESGKxdro1h",
        "colab_type": "code",
        "outputId": "797a4d65-a42e-4543-e121-260c5047bf6d",
        "colab": {
          "base_uri": "https://localhost:8080/",
          "height": 51
        }
      },
      "source": [
        "string = \"1234\"\n",
        "s = \"123abc\"\n",
        "print(len(string))\n",
        "print(len(s))"
      ],
      "execution_count": 0,
      "outputs": [
        {
          "output_type": "stream",
          "text": [
            "4\n",
            "6\n"
          ],
          "name": "stdout"
        }
      ]
    },
    {
      "cell_type": "code",
      "metadata": {
        "id": "CwCvUM6XG3eQ",
        "colab_type": "code",
        "outputId": "288a4d71-217a-49cc-af1d-fab9b4dfbee6",
        "colab": {
          "base_uri": "https://localhost:8080/",
          "height": 180
        }
      },
      "source": [
        "s = 1234\n",
        "print(len(s))"
      ],
      "execution_count": 0,
      "outputs": [
        {
          "output_type": "error",
          "ename": "TypeError",
          "evalue": "ignored",
          "traceback": [
            "\u001b[0;31m---------------------------------------------------------------------------\u001b[0m",
            "\u001b[0;31mTypeError\u001b[0m                                 Traceback (most recent call last)",
            "\u001b[0;32m<ipython-input-10-5617e8df2305>\u001b[0m in \u001b[0;36m<module>\u001b[0;34m()\u001b[0m\n\u001b[1;32m      1\u001b[0m \u001b[0ms\u001b[0m \u001b[0;34m=\u001b[0m \u001b[0;36m1234\u001b[0m\u001b[0;34m\u001b[0m\u001b[0;34m\u001b[0m\u001b[0m\n\u001b[0;32m----> 2\u001b[0;31m \u001b[0mprint\u001b[0m\u001b[0;34m(\u001b[0m\u001b[0mlen\u001b[0m\u001b[0;34m(\u001b[0m\u001b[0ms\u001b[0m\u001b[0;34m)\u001b[0m\u001b[0;34m)\u001b[0m\u001b[0;34m\u001b[0m\u001b[0;34m\u001b[0m\u001b[0m\n\u001b[0m",
            "\u001b[0;31mTypeError\u001b[0m: object of type 'int' has no len()"
          ]
        }
      ]
    },
    {
      "cell_type": "code",
      "metadata": {
        "id": "PbMF9AxHHz5T",
        "colab_type": "code",
        "outputId": "b6567808-e301-4d69-d00c-4d9a9541cf3e",
        "colab": {
          "base_uri": "https://localhost:8080/",
          "height": 51
        }
      },
      "source": [
        "#print only second word in uppercase\n",
        "#print sum of even numbers when given in string\n",
        "\n",
        "a = input()\n",
        "print(a.replace(a[1],a[1].upper()))\n"
      ],
      "execution_count": 0,
      "outputs": [
        {
          "output_type": "stream",
          "text": [
            "war\n",
            "wAr\n"
          ],
          "name": "stdout"
        }
      ]
    },
    {
      "cell_type": "code",
      "metadata": {
        "id": "1tfQxdmwNYNv",
        "colab_type": "code",
        "outputId": "129a0711-3459-469c-a3e8-0f770ac3d105",
        "colab": {
          "base_uri": "https://localhost:8080/",
          "height": 214
        }
      },
      "source": [
        "if true:\n",
        "  print(\"Dhyanahita\")\n",
        "else:\n",
        "  print(\"Good\")"
      ],
      "execution_count": 0,
      "outputs": [
        {
          "output_type": "error",
          "ename": "NameError",
          "evalue": "ignored",
          "traceback": [
            "\u001b[0;31m---------------------------------------------------------------------------\u001b[0m",
            "\u001b[0;31mNameError\u001b[0m                                 Traceback (most recent call last)",
            "\u001b[0;32m<ipython-input-26-ab1db0a09d1f>\u001b[0m in \u001b[0;36m<module>\u001b[0;34m()\u001b[0m\n\u001b[0;32m----> 1\u001b[0;31m \u001b[0;32mif\u001b[0m \u001b[0mtrue\u001b[0m\u001b[0;34m:\u001b[0m\u001b[0;34m\u001b[0m\u001b[0;34m\u001b[0m\u001b[0m\n\u001b[0m\u001b[1;32m      2\u001b[0m   \u001b[0mprint\u001b[0m\u001b[0;34m(\u001b[0m\u001b[0;34m\"Dhyanahita\"\u001b[0m\u001b[0;34m)\u001b[0m\u001b[0;34m\u001b[0m\u001b[0;34m\u001b[0m\u001b[0m\n\u001b[1;32m      3\u001b[0m \u001b[0;32melse\u001b[0m\u001b[0;34m:\u001b[0m\u001b[0;34m\u001b[0m\u001b[0;34m\u001b[0m\u001b[0m\n\u001b[1;32m      4\u001b[0m   \u001b[0mprint\u001b[0m\u001b[0;34m(\u001b[0m\u001b[0;34m\"Good\"\u001b[0m\u001b[0;34m)\u001b[0m\u001b[0;34m\u001b[0m\u001b[0;34m\u001b[0m\u001b[0m\n",
            "\u001b[0;31mNameError\u001b[0m: name 'true' is not defined"
          ]
        }
      ]
    },
    {
      "cell_type": "code",
      "metadata": {
        "id": "bb5v8R0ITUFK",
        "colab_type": "code",
        "outputId": "f4d26987-480e-43bf-803d-e1a9f3fb0325",
        "colab": {
          "base_uri": "https://localhost:8080/",
          "height": 34
        }
      },
      "source": [
        "if True:\n",
        "  print(\"Dhyanahita\")\n",
        "else:\n",
        "  print(\"Good\")"
      ],
      "execution_count": 0,
      "outputs": [
        {
          "output_type": "stream",
          "text": [
            "Dhyanahita\n"
          ],
          "name": "stdout"
        }
      ]
    },
    {
      "cell_type": "code",
      "metadata": {
        "id": "TwOsyR4uTYZU",
        "colab_type": "code",
        "outputId": "593b5f52-0936-442e-fc2f-eec63f896520",
        "colab": {
          "base_uri": "https://localhost:8080/",
          "height": 51
        }
      },
      "source": [
        "#for printing values upto n (using while loop)\n",
        "\n",
        "n = int(input())\n",
        "i = 0\n",
        "while i< n:\n",
        "  print(i, end=' ')\n",
        "  i+=1"
      ],
      "execution_count": 0,
      "outputs": [
        {
          "output_type": "stream",
          "text": [
            "5\n",
            "0 1 2 3 4 "
          ],
          "name": "stdout"
        }
      ]
    },
    {
      "cell_type": "code",
      "metadata": {
        "id": "EMPJjmSQUumN",
        "colab_type": "code",
        "outputId": "c790a3e8-8237-452c-8eda-2400adc04017",
        "colab": {
          "base_uri": "https://localhost:8080/",
          "height": 51
        }
      },
      "source": [
        "#sum of first n integers (using for loop) \n",
        "\n",
        "n=int(input())\n",
        "sum1 = 0\n",
        "for i in range (0,n+1):\n",
        "  sum1+=i\n",
        "print(sum1)"
      ],
      "execution_count": 0,
      "outputs": [
        {
          "output_type": "stream",
          "text": [
            "10\n",
            "55\n"
          ],
          "name": "stdout"
        }
      ]
    },
    {
      "cell_type": "code",
      "metadata": {
        "id": "KWuUhKDZVkh5",
        "colab_type": "code",
        "outputId": "59b0ef84-de0e-49e8-e921-5c98a084051d",
        "colab": {
          "base_uri": "https://localhost:8080/",
          "height": 51
        }
      },
      "source": [
        "#sum of first n numbers (using while loop) \n",
        "\n",
        "n1 = int(input())\n",
        "sum2 = 0\n",
        "i = 0\n",
        "while i<=n1:\n",
        "  sum2 += i\n",
        "  i += 1\n",
        "print(sum2)"
      ],
      "execution_count": 0,
      "outputs": [
        {
          "output_type": "stream",
          "text": [
            "20\n",
            "210\n"
          ],
          "name": "stdout"
        }
      ]
    },
    {
      "cell_type": "code",
      "metadata": {
        "id": "0nU8vSZwXBfv",
        "colab_type": "code",
        "outputId": "a11cd0bb-db72-4e71-a9b4-71db513fb3af",
        "colab": {
          "base_uri": "https://localhost:8080/",
          "height": 51
        }
      },
      "source": [
        "# print factors of a given number\n",
        "\n",
        "a1 = int(input())\n",
        "i = 1\n",
        "while i<=a1:\n",
        "  if a1%i == 0:\n",
        "    print(i, end=\" \")\n",
        "  i+=1\n"
      ],
      "execution_count": 0,
      "outputs": [
        {
          "output_type": "stream",
          "text": [
            "6\n",
            "1 2 3 6 "
          ],
          "name": "stdout"
        }
      ]
    },
    {
      "cell_type": "code",
      "metadata": {
        "id": "KDU_zBL4Xwls",
        "colab_type": "code",
        "outputId": "4cfe342c-1375-4827-bd7d-a316a6ef64de",
        "colab": {
          "base_uri": "https://localhost:8080/",
          "height": 51
        }
      },
      "source": [
        "#Read n numbers. Print even number squares output\n",
        "\n",
        "p = int(input())\n",
        "i = 1\n",
        "while i<=p:\n",
        "  if i% 2 == 0:\n",
        "    print(i**2, end= \" \")\n",
        "  i+=1"
      ],
      "execution_count": 0,
      "outputs": [
        {
          "output_type": "stream",
          "text": [
            "10\n",
            "4 16 36 64 100 "
          ],
          "name": "stdout"
        }
      ]
    }
  ]
}