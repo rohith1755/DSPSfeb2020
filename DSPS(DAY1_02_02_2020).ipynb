{
  "nbformat": 4,
  "nbformat_minor": 0,
  "metadata": {
    "colab": {
      "name": "DSPS(DAY1-02/02/2020).ipynb",
      "provenance": [],
      "collapsed_sections": []
    },
    "kernelspec": {
      "name": "python3",
      "display_name": "Python 3"
    }
  },
  "cells": [
    {
      "cell_type": "markdown",
      "metadata": {
        "id": "UD_954n03IhS",
        "colab_type": "text"
      },
      "source": [
        ""
      ]
    },
    {
      "cell_type": "code",
      "metadata": {
        "id": "WF9X1gaUt6Bf",
        "colab_type": "code",
        "outputId": "54e89478-a4ba-4929-e356-59db65473cdd",
        "colab": {
          "base_uri": "https://localhost:8080/",
          "height": 34
        }
      },
      "source": [
        "print (\"hello\")"
      ],
      "execution_count": 0,
      "outputs": [
        {
          "output_type": "stream",
          "text": [
            "hello\n"
          ],
          "name": "stdout"
        }
      ]
    },
    {
      "cell_type": "code",
      "metadata": {
        "id": "It8cMxWL9-b3",
        "colab_type": "code",
        "outputId": "b977ca60-f114-4719-d0c8-c1d2fba1549f",
        "colab": {
          "base_uri": "https://localhost:8080/",
          "height": 68
        }
      },
      "source": [
        "x = int(input(\"Enter a value:\"))\n",
        "y = int(input(\"Enter another value:\"))\n",
        "x+y\n",
        "x-y\n",
        "x/y\n",
        "x*y"
      ],
      "execution_count": 0,
      "outputs": [
        {
          "output_type": "stream",
          "text": [
            "Enter a value:3\n",
            "Enter another value:5\n"
          ],
          "name": "stdout"
        },
        {
          "output_type": "execute_result",
          "data": {
            "text/plain": [
              "15"
            ]
          },
          "metadata": {
            "tags": []
          },
          "execution_count": 2
        }
      ]
    },
    {
      "cell_type": "code",
      "metadata": {
        "id": "EglJ5nFYAPlg",
        "colab_type": "code",
        "outputId": "83a206b0-6ba2-4d8a-a7e3-33a5c439499c",
        "colab": {
          "base_uri": "https://localhost:8080/",
          "height": 68
        }
      },
      "source": [
        "name= input(\"Enter the name: \")a\n",
        "age= int(input(\"Enter the age: \"))\n",
        "print(\"My name is \",name,\" my nanme is \",str(age))"
      ],
      "execution_count": 0,
      "outputs": [
        {
          "output_type": "stream",
          "text": [
            "Enter the name: rohith\n",
            "Enter the age: 21\n",
            "My name is  rohith  my nanme is  21\n"
          ],
          "name": "stdout"
        }
      ]
    },
    {
      "cell_type": "code",
      "metadata": {
        "id": "hnSBrgAIBJJS",
        "colab_type": "code",
        "outputId": "b0cc0d60-77cf-4823-acae-e1009a8cc16f",
        "colab": {
          "base_uri": "https://localhost:8080/",
          "height": 68
        }
      },
      "source": [
        "name= input(\"Enter the name: \")\n",
        "age= int(input(\"Enter the age: \"))\n",
        "print(\"My name is \",name,end=\"\")\n",
        "print(\" my nanme is \",str(age)) "
      ],
      "execution_count": 0,
      "outputs": [
        {
          "output_type": "stream",
          "text": [
            "Enter the name: rohith\n",
            "Enter the age: 21\n",
            "My name is  rohith my nanme is  21\n"
          ],
          "name": "stdout"
        }
      ]
    },
    {
      "cell_type": "code",
      "metadata": {
        "id": "2GRiAVGwBw54",
        "colab_type": "code",
        "outputId": "20ab0eb5-803b-4624-861c-85381a4d5eb2",
        "colab": {
          "base_uri": "https://localhost:8080/",
          "height": 238
        }
      },
      "source": [
        "help(\"keywords\")"
      ],
      "execution_count": 0,
      "outputs": [
        {
          "output_type": "stream",
          "text": [
            "\n",
            "Here is a list of the Python keywords.  Enter any keyword to get more help.\n",
            "\n",
            "False               def                 if                  raise\n",
            "None                del                 import              return\n",
            "True                elif                in                  try\n",
            "and                 else                is                  while\n",
            "as                  except              lambda              with\n",
            "assert              finally             nonlocal            yield\n",
            "break               for                 not                 \n",
            "class               from                or                  \n",
            "continue            global              pass                \n",
            "\n"
          ],
          "name": "stdout"
        }
      ]
    },
    {
      "cell_type": "code",
      "metadata": {
        "id": "fAp2p9ffCU1b",
        "colab_type": "code",
        "colab": {}
      },
      "source": [
        "#Data types\n",
        "1. Fundamental data type -->int, float, complex, boolean, string\n",
        "2. Collection data type --> list, tuple, set, dictionary\n"
      ],
      "execution_count": 0,
      "outputs": []
    },
    {
      "cell_type": "code",
      "metadata": {
        "id": "-mqjRn5dD1IC",
        "colab_type": "code",
        "outputId": "ab611cd7-23d4-4c67-ab2e-9dde1f7edbfd",
        "colab": {
          "base_uri": "https://localhost:8080/",
          "height": 34
        }
      },
      "source": [
        "x=complex(5,7)\n",
        "y=complex(9,11)\n",
        "x+y"
      ],
      "execution_count": 0,
      "outputs": [
        {
          "output_type": "execute_result",
          "data": {
            "text/plain": [
              "(14+18j)"
            ]
          },
          "metadata": {
            "tags": []
          },
          "execution_count": 10
        }
      ]
    },
    {
      "cell_type": "code",
      "metadata": {
        "id": "OWePFJCuEFtZ",
        "colab_type": "code",
        "outputId": "032a0a12-9497-4b09-ded4-3ff7662662b8",
        "colab": {
          "base_uri": "https://localhost:8080/",
          "height": 51
        }
      },
      "source": [
        "s = input()\n",
        "print(s.count(\"()\")*2)"
      ],
      "execution_count": 0,
      "outputs": [
        {
          "output_type": "stream",
          "text": [
            "()((()()()(())))()((())\n",
            "14\n"
          ],
          "name": "stdout"
        }
      ]
    },
    {
      "cell_type": "code",
      "metadata": {
        "id": "3d3ploclkBeu",
        "colab_type": "code",
        "outputId": "07a4c2a3-975c-408b-a7a8-da373a1c0d31",
        "colab": {
          "base_uri": "https://localhost:8080/",
          "height": 51
        }
      },
      "source": [
        "n=input()\n",
        "u = 0\n",
        "l = 0\n",
        "d = 0\n",
        "for i in n:\n",
        "  if i.isupper():\n",
        "    u+=1\n",
        "  elif i.islower():\n",
        "    l+=1\n",
        "  elif i.isdigit():\n",
        "    d+=1\n",
        "print(\"Upper case: \",u,\"lower case: \",l,\"Digit: \",d)\n"
      ],
      "execution_count": 0,
      "outputs": [
        {
          "output_type": "stream",
          "text": [
            "abcABC123\n",
            "Upper case:  3 lower case:  3 Digit:  3\n"
          ],
          "name": "stdout"
        }
      ]
    },
    {
      "cell_type": "code",
      "metadata": {
        "id": "2II_FTLhmdlJ",
        "colab_type": "code",
        "outputId": "1ef1d4da-55ef-4eb3-ac2f-858908615b32",
        "colab": {
          "base_uri": "https://localhost:8080/",
          "height": 34
        }
      },
      "source": [
        "s = \"abcdefghijklmnopqrstuvwxyz\"\n",
        "s.upper()"
      ],
      "execution_count": 0,
      "outputs": [
        {
          "output_type": "execute_result",
          "data": {
            "text/plain": [
              "'ABCDEFGHIJKLMNOPQRSTUVWXYZ'"
            ]
          },
          "metadata": {
            "tags": []
          },
          "execution_count": 9
        }
      ]
    },
    {
      "cell_type": "code",
      "metadata": {
        "id": "kYX4D0dwrqOF",
        "colab_type": "code",
        "outputId": "45603dc8-7f81-466d-c766-0acb73de87fa",
        "colab": {
          "base_uri": "https://localhost:8080/",
          "height": 51
        }
      },
      "source": [
        "s= input()\n",
        "vowels=\"aeiouAEIOU\"\n",
        "v=0\n",
        "c=0\n",
        "for i in s:\n",
        "  if (i in vowels):\n",
        "    v+=1\n",
        "  else:\n",
        "    c+=1\n",
        "print(\"vowels are:\",  v, \"consonants are:\",c)"
      ],
      "execution_count": 0,
      "outputs": [
        {
          "output_type": "stream",
          "text": [
            "ABCabc\n",
            "vowels are: 2 consonants are: 4\n"
          ],
          "name": "stdout"
        }
      ]
    },
    {
      "cell_type": "code",
      "metadata": {
        "id": "xawlwcFLsGpl",
        "colab_type": "code",
        "outputId": "83ecdbdd-b73d-4f62-9ec1-43b91baf3d24",
        "colab": {
          "base_uri": "https://localhost:8080/",
          "height": 119
        }
      },
      "source": [
        "w = input()\n",
        "c = input()\n",
        "for i in range(len(w)):\n",
        "  for j in range(len(c)):\n",
        "    if i==j:\n",
        "      print(w[i],c[j])\n",
        "if i <= j:\n",
        "      print('*', c[j])\n",
        "else:\n",
        "      print(w[i],'*')"
      ],
      "execution_count": 0,
      "outputs": [
        {
          "output_type": "stream",
          "text": [
            "BAD\n",
            "TER\n",
            "B T\n",
            "A E\n",
            "D R\n",
            "* R\n"
          ],
          "name": "stdout"
        }
      ]
    },
    {
      "cell_type": "code",
      "metadata": {
        "id": "BKfPVycv9S8h",
        "colab_type": "code",
        "outputId": "fa0344a5-a176-4c03-a4c1-2571f5f70706",
        "colab": {
          "base_uri": "https://localhost:8080/",
          "height": 170
        }
      },
      "source": [
        "w = input()\n",
        "c = input()\n",
        "for i in range(len(w)):\n",
        "  for j in range(len(c)):\n",
        "    if i==j:\n",
        "      print(w[i],c[j])\n",
        "if i <= j:\n",
        "      print( '*', c[j])\n",
        "else:\n",
        "      print(w[i],'*')"
      ],
      "execution_count": 0,
      "outputs": [
        {
          "output_type": "stream",
          "text": [
            "ROHITH\n",
            "SHIVANSH\n",
            "R S\n",
            "O H\n",
            "H I\n",
            "I V\n",
            "T A\n",
            "H N\n",
            "* H\n"
          ],
          "name": "stdout"
        }
      ]
    },
    {
      "cell_type": "code",
      "metadata": {
        "id": "XJG1nQqmz3kz",
        "colab_type": "code",
        "outputId": "72e34d00-68be-4d1b-d799-23c79a7dcb17",
        "colab": {
          "base_uri": "https://localhost:8080/",
          "height": 68
        }
      },
      "source": [
        "w = input()\n",
        "e = input()\n",
        "if len(w)==len(e):\n",
        "  for i in range(len(w)):\n",
        "    print(w[i],c[i])\n",
        "elif len(w)<len(e):\n",
        "  print('*', c[i])\n",
        "else:\n",
        "  print(w[i],'*')  "
      ],
      "execution_count": 0,
      "outputs": [
        {
          "output_type": "stream",
          "text": [
            "bad\n",
            "water\n",
            "* N\n"
          ],
          "name": "stdout"
        }
      ]
    },
    {
      "cell_type": "markdown",
      "metadata": {
        "id": "WnR2_uns4s8M",
        "colab_type": "text"
      },
      "source": [
        "take two strings as input. print each character of the string with same index in the strings. where the string ends there print '*' character."
      ]
    },
    {
      "cell_type": "code",
      "metadata": {
        "id": "90Guc9aq4cCS",
        "colab_type": "code",
        "outputId": "8b6ffd45-16cc-43ea-f6c3-5b189929f688",
        "colab": {
          "base_uri": "https://localhost:8080/",
          "height": 136
        }
      },
      "source": [
        "s1 = input()\n",
        "s2 = input()\n",
        "if (len(s1)==len(s2)):\n",
        "  for i in range(len(s1)):\n",
        "    print(s1[i], s2[i])\n",
        "elif(len(s1)<len(s2)):\n",
        "  for i in range (len(s1)):\n",
        "    print(s1[i], s2[i])\n",
        "  for i in range (len(s1), len(s2)):\n",
        "    print(\"*\", s2[i])\n",
        "else:\n",
        "  for i in range (len(s2)):\n",
        "    print(s2[i], s1[i])\n",
        "  for i in range (len(s2), len(s1)):\n",
        "    print(\"*\", s1[1])"
      ],
      "execution_count": 0,
      "outputs": [
        {
          "output_type": "stream",
          "text": [
            "bad\n",
            "water\n",
            "b w\n",
            "a a\n",
            "d t\n",
            "* e\n",
            "* r\n"
          ],
          "name": "stdout"
        }
      ]
    },
    {
      "cell_type": "code",
      "metadata": {
        "id": "YGlsfXw-6rVJ",
        "colab_type": "code",
        "outputId": "d4967461-d5ee-4c81-889d-369099b1b97b",
        "colab": {
          "base_uri": "https://localhost:8080/",
          "height": 153
        }
      },
      "source": [
        "s1 = input()\n",
        "s2 = input()\n",
        "if len(s1)< len(s2):\n",
        "  diff = len(s2)-len(s1)\n",
        "  s1 = s1+ '*'*diff\n",
        "elif len(s1)> len(s2):\n",
        "    diff = len(s1)-len(s2)\n",
        "    s2 = s2+ '*'*diff\n",
        "for i in range (len(s1)):\n",
        "  print(s1[i], s2[i]) "
      ],
      "execution_count": 0,
      "outputs": [
        {
          "output_type": "stream",
          "text": [
            "dad\n",
            "father\n",
            "d f\n",
            "a a\n",
            "d t\n",
            "* h\n",
            "* e\n",
            "* r\n"
          ],
          "name": "stdout"
        }
      ]
    },
    {
      "cell_type": "code",
      "metadata": {
        "id": "7FFJUYgn9Rob",
        "colab_type": "code",
        "outputId": "010baec4-9036-4879-977b-ad7bfdfaf9c2",
        "colab": {
          "base_uri": "https://localhost:8080/",
          "height": 1000
        }
      },
      "source": [
        "help(str)"
      ],
      "execution_count": 0,
      "outputs": [
        {
          "output_type": "stream",
          "text": [
            "Help on class str in module builtins:\n",
            "\n",
            "class str(object)\n",
            " |  str(object='') -> str\n",
            " |  str(bytes_or_buffer[, encoding[, errors]]) -> str\n",
            " |  \n",
            " |  Create a new string object from the given object. If encoding or\n",
            " |  errors is specified, then the object must expose a data buffer\n",
            " |  that will be decoded using the given encoding and error handler.\n",
            " |  Otherwise, returns the result of object.__str__() (if defined)\n",
            " |  or repr(object).\n",
            " |  encoding defaults to sys.getdefaultencoding().\n",
            " |  errors defaults to 'strict'.\n",
            " |  \n",
            " |  Methods defined here:\n",
            " |  \n",
            " |  __add__(self, value, /)\n",
            " |      Return self+value.\n",
            " |  \n",
            " |  __contains__(self, key, /)\n",
            " |      Return key in self.\n",
            " |  \n",
            " |  __eq__(self, value, /)\n",
            " |      Return self==value.\n",
            " |  \n",
            " |  __format__(...)\n",
            " |      S.__format__(format_spec) -> str\n",
            " |      \n",
            " |      Return a formatted version of S as described by format_spec.\n",
            " |  \n",
            " |  __ge__(self, value, /)\n",
            " |      Return self>=value.\n",
            " |  \n",
            " |  __getattribute__(self, name, /)\n",
            " |      Return getattr(self, name).\n",
            " |  \n",
            " |  __getitem__(self, key, /)\n",
            " |      Return self[key].\n",
            " |  \n",
            " |  __getnewargs__(...)\n",
            " |  \n",
            " |  __gt__(self, value, /)\n",
            " |      Return self>value.\n",
            " |  \n",
            " |  __hash__(self, /)\n",
            " |      Return hash(self).\n",
            " |  \n",
            " |  __iter__(self, /)\n",
            " |      Implement iter(self).\n",
            " |  \n",
            " |  __le__(self, value, /)\n",
            " |      Return self<=value.\n",
            " |  \n",
            " |  __len__(self, /)\n",
            " |      Return len(self).\n",
            " |  \n",
            " |  __lt__(self, value, /)\n",
            " |      Return self<value.\n",
            " |  \n",
            " |  __mod__(self, value, /)\n",
            " |      Return self%value.\n",
            " |  \n",
            " |  __mul__(self, value, /)\n",
            " |      Return self*value.\n",
            " |  \n",
            " |  __ne__(self, value, /)\n",
            " |      Return self!=value.\n",
            " |  \n",
            " |  __new__(*args, **kwargs) from builtins.type\n",
            " |      Create and return a new object.  See help(type) for accurate signature.\n",
            " |  \n",
            " |  __repr__(self, /)\n",
            " |      Return repr(self).\n",
            " |  \n",
            " |  __rmod__(self, value, /)\n",
            " |      Return value%self.\n",
            " |  \n",
            " |  __rmul__(self, value, /)\n",
            " |      Return value*self.\n",
            " |  \n",
            " |  __sizeof__(...)\n",
            " |      S.__sizeof__() -> size of S in memory, in bytes\n",
            " |  \n",
            " |  __str__(self, /)\n",
            " |      Return str(self).\n",
            " |  \n",
            " |  capitalize(...)\n",
            " |      S.capitalize() -> str\n",
            " |      \n",
            " |      Return a capitalized version of S, i.e. make the first character\n",
            " |      have upper case and the rest lower case.\n",
            " |  \n",
            " |  casefold(...)\n",
            " |      S.casefold() -> str\n",
            " |      \n",
            " |      Return a version of S suitable for caseless comparisons.\n",
            " |  \n",
            " |  center(...)\n",
            " |      S.center(width[, fillchar]) -> str\n",
            " |      \n",
            " |      Return S centered in a string of length width. Padding is\n",
            " |      done using the specified fill character (default is a space)\n",
            " |  \n",
            " |  count(...)\n",
            " |      S.count(sub[, start[, end]]) -> int\n",
            " |      \n",
            " |      Return the number of non-overlapping occurrences of substring sub in\n",
            " |      string S[start:end].  Optional arguments start and end are\n",
            " |      interpreted as in slice notation.\n",
            " |  \n",
            " |  encode(...)\n",
            " |      S.encode(encoding='utf-8', errors='strict') -> bytes\n",
            " |      \n",
            " |      Encode S using the codec registered for encoding. Default encoding\n",
            " |      is 'utf-8'. errors may be given to set a different error\n",
            " |      handling scheme. Default is 'strict' meaning that encoding errors raise\n",
            " |      a UnicodeEncodeError. Other possible values are 'ignore', 'replace' and\n",
            " |      'xmlcharrefreplace' as well as any other name registered with\n",
            " |      codecs.register_error that can handle UnicodeEncodeErrors.\n",
            " |  \n",
            " |  endswith(...)\n",
            " |      S.endswith(suffix[, start[, end]]) -> bool\n",
            " |      \n",
            " |      Return True if S ends with the specified suffix, False otherwise.\n",
            " |      With optional start, test S beginning at that position.\n",
            " |      With optional end, stop comparing S at that position.\n",
            " |      suffix can also be a tuple of strings to try.\n",
            " |  \n",
            " |  expandtabs(...)\n",
            " |      S.expandtabs(tabsize=8) -> str\n",
            " |      \n",
            " |      Return a copy of S where all tab characters are expanded using spaces.\n",
            " |      If tabsize is not given, a tab size of 8 characters is assumed.\n",
            " |  \n",
            " |  find(...)\n",
            " |      S.find(sub[, start[, end]]) -> int\n",
            " |      \n",
            " |      Return the lowest index in S where substring sub is found,\n",
            " |      such that sub is contained within S[start:end].  Optional\n",
            " |      arguments start and end are interpreted as in slice notation.\n",
            " |      \n",
            " |      Return -1 on failure.\n",
            " |  \n",
            " |  format(...)\n",
            " |      S.format(*args, **kwargs) -> str\n",
            " |      \n",
            " |      Return a formatted version of S, using substitutions from args and kwargs.\n",
            " |      The substitutions are identified by braces ('{' and '}').\n",
            " |  \n",
            " |  format_map(...)\n",
            " |      S.format_map(mapping) -> str\n",
            " |      \n",
            " |      Return a formatted version of S, using substitutions from mapping.\n",
            " |      The substitutions are identified by braces ('{' and '}').\n",
            " |  \n",
            " |  index(...)\n",
            " |      S.index(sub[, start[, end]]) -> int\n",
            " |      \n",
            " |      Return the lowest index in S where substring sub is found, \n",
            " |      such that sub is contained within S[start:end].  Optional\n",
            " |      arguments start and end are interpreted as in slice notation.\n",
            " |      \n",
            " |      Raises ValueError when the substring is not found.\n",
            " |  \n",
            " |  isalnum(...)\n",
            " |      S.isalnum() -> bool\n",
            " |      \n",
            " |      Return True if all characters in S are alphanumeric\n",
            " |      and there is at least one character in S, False otherwise.\n",
            " |  \n",
            " |  isalpha(...)\n",
            " |      S.isalpha() -> bool\n",
            " |      \n",
            " |      Return True if all characters in S are alphabetic\n",
            " |      and there is at least one character in S, False otherwise.\n",
            " |  \n",
            " |  isdecimal(...)\n",
            " |      S.isdecimal() -> bool\n",
            " |      \n",
            " |      Return True if there are only decimal characters in S,\n",
            " |      False otherwise.\n",
            " |  \n",
            " |  isdigit(...)\n",
            " |      S.isdigit() -> bool\n",
            " |      \n",
            " |      Return True if all characters in S are digits\n",
            " |      and there is at least one character in S, False otherwise.\n",
            " |  \n",
            " |  isidentifier(...)\n",
            " |      S.isidentifier() -> bool\n",
            " |      \n",
            " |      Return True if S is a valid identifier according\n",
            " |      to the language definition.\n",
            " |      \n",
            " |      Use keyword.iskeyword() to test for reserved identifiers\n",
            " |      such as \"def\" and \"class\".\n",
            " |  \n",
            " |  islower(...)\n",
            " |      S.islower() -> bool\n",
            " |      \n",
            " |      Return True if all cased characters in S are lowercase and there is\n",
            " |      at least one cased character in S, False otherwise.\n",
            " |  \n",
            " |  isnumeric(...)\n",
            " |      S.isnumeric() -> bool\n",
            " |      \n",
            " |      Return True if there are only numeric characters in S,\n",
            " |      False otherwise.\n",
            " |  \n",
            " |  isprintable(...)\n",
            " |      S.isprintable() -> bool\n",
            " |      \n",
            " |      Return True if all characters in S are considered\n",
            " |      printable in repr() or S is empty, False otherwise.\n",
            " |  \n",
            " |  isspace(...)\n",
            " |      S.isspace() -> bool\n",
            " |      \n",
            " |      Return True if all characters in S are whitespace\n",
            " |      and there is at least one character in S, False otherwise.\n",
            " |  \n",
            " |  istitle(...)\n",
            " |      S.istitle() -> bool\n",
            " |      \n",
            " |      Return True if S is a titlecased string and there is at least one\n",
            " |      character in S, i.e. upper- and titlecase characters may only\n",
            " |      follow uncased characters and lowercase characters only cased ones.\n",
            " |      Return False otherwise.\n",
            " |  \n",
            " |  isupper(...)\n",
            " |      S.isupper() -> bool\n",
            " |      \n",
            " |      Return True if all cased characters in S are uppercase and there is\n",
            " |      at least one cased character in S, False otherwise.\n",
            " |  \n",
            " |  join(...)\n",
            " |      S.join(iterable) -> str\n",
            " |      \n",
            " |      Return a string which is the concatenation of the strings in the\n",
            " |      iterable.  The separator between elements is S.\n",
            " |  \n",
            " |  ljust(...)\n",
            " |      S.ljust(width[, fillchar]) -> str\n",
            " |      \n",
            " |      Return S left-justified in a Unicode string of length width. Padding is\n",
            " |      done using the specified fill character (default is a space).\n",
            " |  \n",
            " |  lower(...)\n",
            " |      S.lower() -> str\n",
            " |      \n",
            " |      Return a copy of the string S converted to lowercase.\n",
            " |  \n",
            " |  lstrip(...)\n",
            " |      S.lstrip([chars]) -> str\n",
            " |      \n",
            " |      Return a copy of the string S with leading whitespace removed.\n",
            " |      If chars is given and not None, remove characters in chars instead.\n",
            " |  \n",
            " |  partition(...)\n",
            " |      S.partition(sep) -> (head, sep, tail)\n",
            " |      \n",
            " |      Search for the separator sep in S, and return the part before it,\n",
            " |      the separator itself, and the part after it.  If the separator is not\n",
            " |      found, return S and two empty strings.\n",
            " |  \n",
            " |  replace(...)\n",
            " |      S.replace(old, new[, count]) -> str\n",
            " |      \n",
            " |      Return a copy of S with all occurrences of substring\n",
            " |      old replaced by new.  If the optional argument count is\n",
            " |      given, only the first count occurrences are replaced.\n",
            " |  \n",
            " |  rfind(...)\n",
            " |      S.rfind(sub[, start[, end]]) -> int\n",
            " |      \n",
            " |      Return the highest index in S where substring sub is found,\n",
            " |      such that sub is contained within S[start:end].  Optional\n",
            " |      arguments start and end are interpreted as in slice notation.\n",
            " |      \n",
            " |      Return -1 on failure.\n",
            " |  \n",
            " |  rindex(...)\n",
            " |      S.rindex(sub[, start[, end]]) -> int\n",
            " |      \n",
            " |      Return the highest index in S where substring sub is found,\n",
            " |      such that sub is contained within S[start:end].  Optional\n",
            " |      arguments start and end are interpreted as in slice notation.\n",
            " |      \n",
            " |      Raises ValueError when the substring is not found.\n",
            " |  \n",
            " |  rjust(...)\n",
            " |      S.rjust(width[, fillchar]) -> str\n",
            " |      \n",
            " |      Return S right-justified in a string of length width. Padding is\n",
            " |      done using the specified fill character (default is a space).\n",
            " |  \n",
            " |  rpartition(...)\n",
            " |      S.rpartition(sep) -> (head, sep, tail)\n",
            " |      \n",
            " |      Search for the separator sep in S, starting at the end of S, and return\n",
            " |      the part before it, the separator itself, and the part after it.  If the\n",
            " |      separator is not found, return two empty strings and S.\n",
            " |  \n",
            " |  rsplit(...)\n",
            " |      S.rsplit(sep=None, maxsplit=-1) -> list of strings\n",
            " |      \n",
            " |      Return a list of the words in S, using sep as the\n",
            " |      delimiter string, starting at the end of the string and\n",
            " |      working to the front.  If maxsplit is given, at most maxsplit\n",
            " |      splits are done. If sep is not specified, any whitespace string\n",
            " |      is a separator.\n",
            " |  \n",
            " |  rstrip(...)\n",
            " |      S.rstrip([chars]) -> str\n",
            " |      \n",
            " |      Return a copy of the string S with trailing whitespace removed.\n",
            " |      If chars is given and not None, remove characters in chars instead.\n",
            " |  \n",
            " |  split(...)\n",
            " |      S.split(sep=None, maxsplit=-1) -> list of strings\n",
            " |      \n",
            " |      Return a list of the words in S, using sep as the\n",
            " |      delimiter string.  If maxsplit is given, at most maxsplit\n",
            " |      splits are done. If sep is not specified or is None, any\n",
            " |      whitespace string is a separator and empty strings are\n",
            " |      removed from the result.\n",
            " |  \n",
            " |  splitlines(...)\n",
            " |      S.splitlines([keepends]) -> list of strings\n",
            " |      \n",
            " |      Return a list of the lines in S, breaking at line boundaries.\n",
            " |      Line breaks are not included in the resulting list unless keepends\n",
            " |      is given and true.\n",
            " |  \n",
            " |  startswith(...)\n",
            " |      S.startswith(prefix[, start[, end]]) -> bool\n",
            " |      \n",
            " |      Return True if S starts with the specified prefix, False otherwise.\n",
            " |      With optional start, test S beginning at that position.\n",
            " |      With optional end, stop comparing S at that position.\n",
            " |      prefix can also be a tuple of strings to try.\n",
            " |  \n",
            " |  strip(...)\n",
            " |      S.strip([chars]) -> str\n",
            " |      \n",
            " |      Return a copy of the string S with leading and trailing\n",
            " |      whitespace removed.\n",
            " |      If chars is given and not None, remove characters in chars instead.\n",
            " |  \n",
            " |  swapcase(...)\n",
            " |      S.swapcase() -> str\n",
            " |      \n",
            " |      Return a copy of S with uppercase characters converted to lowercase\n",
            " |      and vice versa.\n",
            " |  \n",
            " |  title(...)\n",
            " |      S.title() -> str\n",
            " |      \n",
            " |      Return a titlecased version of S, i.e. words start with title case\n",
            " |      characters, all remaining cased characters have lower case.\n",
            " |  \n",
            " |  translate(...)\n",
            " |      S.translate(table) -> str\n",
            " |      \n",
            " |      Return a copy of the string S in which each character has been mapped\n",
            " |      through the given translation table. The table must implement\n",
            " |      lookup/indexing via __getitem__, for instance a dictionary or list,\n",
            " |      mapping Unicode ordinals to Unicode ordinals, strings, or None. If\n",
            " |      this operation raises LookupError, the character is left untouched.\n",
            " |      Characters mapped to None are deleted.\n",
            " |  \n",
            " |  upper(...)\n",
            " |      S.upper() -> str\n",
            " |      \n",
            " |      Return a copy of S converted to uppercase.\n",
            " |  \n",
            " |  zfill(...)\n",
            " |      S.zfill(width) -> str\n",
            " |      \n",
            " |      Pad a numeric string S with zeros on the left, to fill a field\n",
            " |      of the specified width. The string S is never truncated.\n",
            " |  \n",
            " |  ----------------------------------------------------------------------\n",
            " |  Static methods defined here:\n",
            " |  \n",
            " |  maketrans(x, y=None, z=None, /)\n",
            " |      Return a translation table usable for str.translate().\n",
            " |      \n",
            " |      If there is only one argument, it must be a dictionary mapping Unicode\n",
            " |      ordinals (integers) or characters to Unicode ordinals, strings or None.\n",
            " |      Character keys will be then converted to ordinals.\n",
            " |      If there are two arguments, they must be strings of equal length, and\n",
            " |      in the resulting dictionary, each character in x will be mapped to the\n",
            " |      character at the same position in y. If there is a third argument, it\n",
            " |      must be a string, whose characters will be mapped to None in the result.\n",
            "\n"
          ],
          "name": "stdout"
        }
      ]
    },
    {
      "cell_type": "code",
      "metadata": {
        "id": "jIIrnFd-933p",
        "colab_type": "code",
        "outputId": "0e7ce711-f887-4679-ddbb-7672e46b4f21",
        "colab": {
          "base_uri": "https://localhost:8080/",
          "height": 51
        }
      },
      "source": [
        "#input : orange\n",
        "#output : puboif\n",
        "s =  input(\"Enter a string \")\n",
        "vowels = \"aeiouAEIOU\"\n",
        "for i in s:\n",
        "  if (i in vowels):\n",
        "    print(chr(ord(i)+1), end=\"\")\n",
        "  else:\n",
        "    if (i>'a' and i<'e'):\n",
        "        print('e', end=\"\")\n",
        "    if (i>'e' and i<'i'):\n",
        "        print('i', end=\"\")\n",
        "    if (i>'i' and i<'o'):\n",
        "        print('o', end=\"\")\n",
        "    if (i>'o' and i<'u'):\n",
        "        print('u', end=\"\")\n",
        "    if (i>'u' and i<'z'):\n",
        "        print('a', end=\"\")"
      ],
      "execution_count": 0,
      "outputs": [
        {
          "output_type": "stream",
          "text": [
            "Enter a string rohith\n",
            "upijui"
          ],
          "name": "stdout"
        }
      ]
    }
  ]
}